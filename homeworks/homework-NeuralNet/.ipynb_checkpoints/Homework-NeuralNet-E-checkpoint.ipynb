{
  "cells": [
    {
      "cell_type": "markdown",
      "id": "8d533047",
      "metadata": {
        "id": "8d533047"
      },
      "source": [
        "# Homework - Neural networks - Part E (50 points)\n",
        "## Discovering lexical classes from simple sentences"
      ]
    },
    {
      "cell_type": "markdown",
      "id": "26ce9501",
      "metadata": {
        "id": "26ce9501"
      },
      "source": [
        "by *Brenden Lake* and *Todd Gureckis*  \n",
        "Computational Cognitive Modeling  \n",
        "NYU class webpage: https://brendenlake.github.io/CCM-site/  "
      ]
    },
    {
      "cell_type": "markdown",
      "id": "c6a33a7e",
      "metadata": {
        "id": "c6a33a7e"
      },
      "source": [
        "<div class=\"alert alert-danger\" role=\"alert\">\n",
        "This homework is due before midnight on Feb. 15, 2024.\n",
        "</div>"
      ]
    },
    {
      "cell_type": "markdown",
      "id": "110537d8",
      "metadata": {
        "id": "110537d8"
      },
      "source": [
        "In this assignment, you will follow in Elman's (1990) footsteps by coding and training a Simple Recurrent Network (SRN) on a set of simple sentences.\n",
        "- **Before training**, the SRN can process sequences but otherwise knows nothing about language. Initially, it represents each word as an arbitrary continuous vector (input embedding) without knowledge of their roles or how they relate to each other.\n",
        "- **During training**, the SRN aims to predict the next word in a sentence given the previous words. The optimizer takes a step after each sentence.\n",
        "- **After training**, you will analyze the SRN's internal representations (input embeddings) for evidence that it has discovered something about lexical classes (e.g., nouns and verbs).\n",
        "\n",
        "\n",
        "<div class=\"alert alert-info\">\n",
        "Reference (available for download on Brightspace):\n",
        "    \n",
        "Elman, J. L. (1990). Finding Structure in Time. Cognitive Science, 14:179–211.\n",
        "</div>\n"
      ]
    },
    {
      "cell_type": "code",
      "execution_count": 1,
      "id": "3f1b0e87",
      "metadata": {
        "id": "3f1b0e87"
      },
      "outputs": [],
      "source": [
        "# Let's start with some packages we need\n",
        "from __future__ import print_function\n",
        "import torch\n",
        "import torch.nn as nn\n",
        "import numpy as np\n",
        "import matplotlib\n",
        "%matplotlib inline\n",
        "import matplotlib.pyplot as plt\n",
        "from scipy.cluster.hierarchy import dendrogram, linkage"
      ]
    },
    {
      "cell_type": "markdown",
      "id": "6a0e6487",
      "metadata": {
        "id": "6a0e6487"
      },
      "source": [
        "### Elman's set of simple sentences\n",
        "The training set consists of 10,000 sentences each with 2 or 3 words. Elman generated each sentence as follows:\n",
        "1. Choose one of 16 templates specificying a sequence of lexical classes (see below).\n",
        "2. Each lexical class is replaced by a word sampled from that class (see below, only a subset of words shown).\n",
        "\n",
        "The vocabulary contained 29 words. For example, the template `NOUN-AGRESS VERB-EAT NOUN-FOOD` can lead to the sentence `dragon eat cookie` along with other possibilities. We generated 10,000 sentences using our best guess of Elman's procedure (the full set of lexical classes isn't listed). You can see these sentences in the external text file `data/elman_sentences.txt`\n",
        "\n",
        "<img src=\"https://github.com/brendenlake/CCM-site/blob/main/homeworks/homework-NeuralNet/.ipynb_checkpoints/images/elman_tab3.png?raw=1\" width=400px>\n",
        "<img src=\"https://github.com/brendenlake/CCM-site/blob/main/homeworks/homework-NeuralNet/.ipynb_checkpoints/images/elman_tab4.png?raw=1\" width=400px>"
      ]
    },
    {
      "cell_type": "markdown",
      "id": "82decfce",
      "metadata": {
        "id": "82decfce"
      },
      "source": [
        "### Loading the data\n",
        "The following code will load and process the set of simple sentences. As is common in neural networks for text and natural language processing, the sentence strings are first \"tokenized\" into a list of discrete elements (words in this case). Additionally, special tokens indicating the start-of-sentence `<SOS>`  and end-of-sentence `<EOS>`  are added at the beginning and end of the sentence, respectively. The SRN requires an input at every step and thus we use `<SOS>` as the first input when the SRN is predicting the first word as output. The SRN can self-terminate a sentence by producing `<EOS>` as an output. The dict `token_to_index` maps each token to a unique integer, which is the format that the SRN actually uses as input.\n",
        "\n",
        "Running the code below will show you the dict `token_to_index` and how the first sentence `dragon break plate` is tokenized into integers. Make sure you understand how this works and how to map back and forth between the formats!"
      ]
    },
    {
      "cell_type": "markdown",
      "source": [
        "**What this next cell does**\n",
        "\n",
        "Tokenizes all 10,000 sentences\n",
        "\n",
        "Adds <SOS> and <EOS> markers\n",
        "\n",
        "Converts each word to an integer index\n",
        "\n",
        "Prepares tensors for training\n",
        "\n",
        "Prints the first tokenized sentence and its tensor"
      ],
      "metadata": {
        "id": "dAsh0BUcBtM_"
      },
      "id": "dAsh0BUcBtM_"
    },
    {
      "cell_type": "code",
      "execution_count": 4,
      "id": "6419fdbb",
      "metadata": {
        "id": "6419fdbb",
        "outputId": "a6cd36c8-8908-4521-a4a9-ae4c1be5f0d8",
        "colab": {
          "base_uri": "https://localhost:8080/"
        }
      },
      "outputs": [
        {
          "output_type": "stream",
          "name": "stdout",
          "text": [
            "mapping unique tokens to integers: {'<EOS>': 0, '<SOS>': 1, 'book': 2, 'boy': 3, 'bread': 4, 'break': 5, 'car': 6, 'cat': 7, 'chase': 8, 'cookie': 9, 'dog': 10, 'dragon': 11, 'eat': 12, 'exist': 13, 'girl': 14, 'glass': 15, 'like': 16, 'lion': 17, 'man': 18, 'monster': 19, 'mouse': 20, 'move': 21, 'plate': 22, 'rock': 23, 'sandwich': 24, 'see': 25, 'sleep': 26, 'smash': 27, 'smell': 28, 'think': 29, 'woman': 30} \n",
            "\n",
            "example sentence as string: <SOS> dragon break plate <EOS> \n",
            "\n",
            "example sentence as tensor: tensor([ 1, 11,  5, 22,  0]) \n",
            "\n"
          ]
        }
      ],
      "source": [
        "def sentenceToTensor(tokens_list):\n",
        "    # Convert list of strings to tensor of token indices (integers)\n",
        "    #\n",
        "    # Input\n",
        "    #  tokens_list : list of strings, e.g. ['<SOS>','lion','eat','man','<EOS>']\n",
        "    # Output\n",
        "    #  1D tensor of the same length (integers), e.g., tensor([ 2, 18, 13, 19,  0])\n",
        "    assert(isinstance(tokens_list,list))\n",
        "    tokens_index = [token_to_index[token] for token in tokens_list]\n",
        "    return torch.tensor(tokens_index)\n",
        "\n",
        "# load and process the set of simple sentences\n",
        "with open('/content/elman_sentences.txt', 'r') as fid:\n",
        "    lines = fid.readlines()\n",
        "sentences_str = [l.strip() for l in lines]\n",
        "sentences_tokens = [s.split() for s in sentences_str]\n",
        "sentences_tokens = [['<SOS>']+s+['<EOS>'] for s in sentences_tokens]\n",
        "unique_tokens = sorted(set(sum(sentences_tokens,[])))\n",
        "n_tokens = len(unique_tokens) # all words and special tokens\n",
        "token_to_index = {t : i for i,t in enumerate(unique_tokens)}\n",
        "index_to_token = {i : t for i,t in enumerate(unique_tokens)}\n",
        "training_pats = [sentenceToTensor(s) for s in sentences_tokens] # python list of 1D sentence tensors\n",
        "ntrain = len(training_pats)\n",
        "print('mapping unique tokens to integers: %s \\n' % token_to_index)\n",
        "print('example sentence as string: %s \\n' % ' '.join(sentences_tokens[0]))\n",
        "print('example sentence as tensor: %s \\n' % training_pats[0])"
      ]
    },
    {
      "cell_type": "markdown",
      "id": "aaad770c",
      "metadata": {
        "id": "aaad770c"
      },
      "source": [
        "### Simple Recurrent Network\n",
        "The diagram below shows the unrolled SRN that you will develop here. As is always true for recurrent networks, notice the tied weights $U$, $W$, $V$, etc.\n",
        "<img src=\"https://github.com/brendenlake/CCM-site/blob/main/homeworks/homework-NeuralNet/.ipynb_checkpoints/images/elman_sent_srn.png?raw=1\" width=500px>\n",
        "We will deviate from Elman's exact model in a few ways to make it more modern. Here is the specification we will use.\n",
        "- **Input embedding**. In Elman's original model, each word was represented by a fixed one-hot input vector. Instead, here we will learn a continuous embedding vector (size `hidden_size=20`) to represent each input word. These vectors are learnable parameters. When a word is provided as input to the SRN, it is converted to the corresponding input embedding. This layer is setup for you already in the started class, `self.embed = nn.Embedding(vocab_size,hidden_size)`\n",
        "- **Hidden layer**. This layer has length `hidden_size` and uses the **logistic** activation function. The initial vector $h_{-1}$ should be all zeros.\n",
        "- **Output layer**. This layer has length `vocab_size` and uses the **softmax** activation function. Thus, the SRN will represent an explicit probability distribution over the next token $w_j$ given the past tokens $w_1,\\dots,w_{j-1}$, through the equation $P(w_j | w_1,\\dots,w_{j-1})$\n",
        "- **Loss**. The SRN will train to maximize the log-likelihood of the target output words, e.g., we use the negative log-likelihood loss `nn.NLLLoss`. If passed a tensor representing multiple target predictions, this loss takes the mean across predictions.\n",
        "- **Optimizer**. We found reasonable results with the `AdamW` optimizer with weight decay of 0.04. Adam is like stochastic gradient descent but adapts the learning rate for each parameter based on the variance of the gradient. Weight decay encourages the parameters to be close to zero leading to more stable input embeddings.\n",
        "- **Batching**. We suggest *no batching* for this simple code. Thus, the optimizer takes a step after each individual sentence. The `forward` method should process only one input word at a time. Batching produces much faster code and is recommended in practice, but it's not required here. If you want to rewrite the code to process multiple timesteps and sentences simultaneously, that's fine too."
      ]
    },
    {
      "cell_type": "markdown",
      "id": "78584536",
      "metadata": {
        "id": "78584536"
      },
      "source": [
        "<div class=\"alert alert-success\" role=\"alert\">\n",
        "<h3> Problem 1 (20 points) Template Below</h3>\n",
        "<br>\n",
        "</div>"
      ]
    },
    {
      "cell_type": "code",
      "execution_count": 6,
      "id": "0fe40b14",
      "metadata": {
        "id": "0fe40b14",
        "outputId": "89a7cf03-88a5-4ea5-fda1-dde5f7f50a70",
        "colab": {
          "base_uri": "https://localhost:8080/",
          "height": 106
        }
      },
      "outputs": [
        {
          "output_type": "error",
          "ename": "IndentationError",
          "evalue": "unexpected indent (<ipython-input-6-26d5c46c9882>, line 3)",
          "traceback": [
            "\u001b[0;36m  File \u001b[0;32m\"<ipython-input-6-26d5c46c9882>\"\u001b[0;36m, line \u001b[0;32m3\u001b[0m\n\u001b[0;31m    def __init__(self, vocab_size, hidden_size):\u001b[0m\n\u001b[0m    ^\u001b[0m\n\u001b[0;31mIndentationError\u001b[0m\u001b[0;31m:\u001b[0m unexpected indent\n"
          ]
        }
      ],
      "source": [
        "#TEMPLATE\n",
        "#class SRN(nn.Module):\n",
        "\n",
        "    def __init__(self, vocab_size, hidden_size):\n",
        "        # vocab_size : number of tokens in vocabulary including special tokens <SOS> and <EOS>\n",
        "        # hidden_size : dim of input embeddings and hidden layer\n",
        "        super().__init__()\n",
        "        self.vocab_size = vocab_size\n",
        "        self.hidden_size = hidden_size\n",
        "        self.embed = nn.Embedding(vocab_size,hidden_size)\n",
        "        # TODO : YOUR CODE GOES HERE\n",
        "        raise Exception('Replace with your code.')\n",
        "\n",
        "    def forward(self, input_token_index, hidden_prev):\n",
        "        # Input\n",
        "        #    input_token_index: [integer] index of current input token\n",
        "        #    hidden_prev: [length hidden_size 1D tensor] hidden state from previous step\n",
        "        # Outpuut\n",
        "        #    output: [length vocab_size 1D tensor] log-probability of emitting each output token\n",
        "        #    hidden_curr : [length hidden_size 1D tensor] hidden state for current step\n",
        "        input_embed = self.embed(input_token_index) # hidden_size 1D tensor\n",
        "        # TODO : YOUR CODE GOES HERE\n",
        "        raise Exception('Replace with your code.')\n",
        "        return output, hidden_curr\n",
        "\n",
        "    def initHidden(self):\n",
        "        # Returns length hidden_size 1D tensor of zeros\n",
        "        return torch.zeros(self.hidden_size)\n",
        "\n",
        "    def get_embeddings(self):\n",
        "        # Returns [vocab_size x hidden_size] numpy array of input embeddings\n",
        "        return self.embed(torch.arange(self.vocab_size)).detach().numpy()"
      ]
    },
    {
      "cell_type": "markdown",
      "source": [
        "<div class=\"alert alert-success\" role=\"alert\">\n",
        "<h3> Problem 1 (20 points) CODE Below</h3>\n",
        "<br>\n",
        "</div>"
      ],
      "metadata": {
        "id": "Z6fibtXABm4y"
      },
      "id": "Z6fibtXABm4y"
    },
    {
      "cell_type": "code",
      "source": [
        "class SRN(nn.Module):\n",
        "\n",
        "    def __init__(self, vocab_size, hidden_size):\n",
        "        super().__init__()\n",
        "        self.vocab_size = vocab_size\n",
        "        self.hidden_size = hidden_size\n",
        "\n",
        "        # Embedding for each input token\n",
        "        self.embed = nn.Embedding(vocab_size, hidden_size)\n",
        "\n",
        "        # Recurrent weights\n",
        "        self.input_to_hidden = nn.Linear(hidden_size, hidden_size)\n",
        "        self.hidden_to_hidden = nn.Linear(hidden_size, hidden_size)\n",
        "\n",
        "        # Output layer\n",
        "        self.hidden_to_output = nn.Linear(hidden_size, vocab_size)\n",
        "\n",
        "        # Activation functions\n",
        "        self.activation = torch.sigmoid\n",
        "        self.softmax = nn.LogSoftmax(dim=0)\n",
        "\n",
        "    def forward(self, input_token_index, hidden_prev):\n",
        "        # Get embedding for input word\n",
        "        input_embed = self.embed(input_token_index)  # shape: [hidden_size]\n",
        "\n",
        "        # Update hidden state\n",
        "        hidden_curr = self.activation(\n",
        "            self.input_to_hidden(input_embed) + self.hidden_to_hidden(hidden_prev)\n",
        "        )\n",
        "\n",
        "        # Compute output logits → log-probabilities\n",
        "        output_logits = self.hidden_to_output(hidden_curr)\n",
        "        output = self.softmax(output_logits)\n",
        "\n",
        "        return output, hidden_curr\n",
        "\n",
        "    def initHidden(self):\n",
        "        return torch.zeros(self.hidden_size)\n",
        "\n",
        "    def get_embeddings(self):\n",
        "        return self.embed(torch.arange(self.vocab_size)).detach().numpy()\n"
      ],
      "metadata": {
        "id": "CfkdyP6yF4e6"
      },
      "id": "CfkdyP6yF4e6",
      "execution_count": 8,
      "outputs": []
    },
    {
      "cell_type": "markdown",
      "id": "21839809",
      "metadata": {
        "id": "21839809"
      },
      "source": [
        "<div class=\"alert alert-success\" role=\"alert\">\n",
        "<h3> Problem 2 (20 points) </h3>\n",
        "<br>\n",
        "Write code to complete the `train` function and the main training loop. In the training loop, for each epoch, print out the mean loss over all training patterns. An epoch should visit each sentence in random order, taking an optimizer step after each sentence.\n",
        "</div>\n",
        "\n",
        "**Hint:** In my implementation, after 10 epochs, I found that the mean loss to reach about 1.57. In other words, the SRN predicts the right word with roughly $e^{-1.57}=0.208$ probability of getting it right. (Of course, perfect prediction is impossible in even this simple language)."
      ]
    },
    {
      "cell_type": "code",
      "execution_count": 3,
      "id": "a8b6b7bc",
      "metadata": {
        "id": "a8b6b7bc"
      },
      "outputs": [],
      "source": [
        "#TEMPLATE\n",
        "\n",
        "def train(seq_tensor, rnn):\n",
        "    # Process a sentence and update the SRN weights. With <SOS> as the input at step 0,\n",
        "    # predict every subsequent word given the past words.\n",
        "    # Return the mean loss across each symbol prediction.\n",
        "    #\n",
        "    # Input\n",
        "    #   seq_tensor: [1D tensor] sentence as token indices\n",
        "    #   rnn : instance of SRN class\n",
        "    # Output\n",
        "    #   loss : [scalar] average NLL loss across prediction steps\n",
        "\n",
        "    # TODO : YOUR CODE GOES HERE\n",
        "    raise Exception('Replace with your code.')"
      ]
    },
    {
      "cell_type": "code",
      "source": [
        "def train(seq_tensor, rnn):\n",
        "    hidden = rnn.initHidden()\n",
        "    loss_total = 0.0\n",
        "    optimizer.zero_grad()  # move optimizer zero_grad to the start\n",
        "\n",
        "    for i in range(len(seq_tensor) - 1):\n",
        "        input_token = seq_tensor[i]\n",
        "        target_token = seq_tensor[i + 1]\n",
        "\n",
        "        output, hidden = rnn(input_token, hidden)\n",
        "\n",
        "        # Compute loss\n",
        "        loss = criterion(output.view(1, -1), target_token.view(1))\n",
        "        loss_total += loss\n",
        "\n",
        "    # Only call backward once (on total sentence loss)\n",
        "    loss_total.backward()\n",
        "    optimizer.step()\n",
        "\n",
        "    return loss_total.item() / (len(seq_tensor) - 1)\n"
      ],
      "metadata": {
        "id": "32UAZleTLDaW"
      },
      "id": "32UAZleTLDaW",
      "execution_count": 13,
      "outputs": []
    },
    {
      "cell_type": "code",
      "execution_count": null,
      "id": "c8c0c754",
      "metadata": {
        "id": "c8c0c754"
      },
      "outputs": [],
      "source": [
        "#TEMPLATE\n",
        "\n",
        "# Main training loop\n",
        "nepochs = 10 # number of passes through the entire training set\n",
        "nhidden = 20 # number of hidden units in the SRN\n",
        "rnn = SRN(n_tokens,nhidden)\n",
        "optimizer = torch.optim.AdamW(rnn.parameters(), weight_decay=0.04) # w/ default learning rate 0.001\n",
        "criterion = nn.NLLLoss()\n",
        "# TODO : YOUR CODE GOES HERE\n",
        "raise Exception('Replace with your code.')"
      ]
    },
    {
      "cell_type": "code",
      "source": [
        "# Main training loop\n",
        "nepochs = 10                   # number of epochs to train\n",
        "nhidden = 20                   # size of hidden state and embedding\n",
        "rnn = SRN(n_tokens, nhidden)   # your SRN model\n",
        "optimizer = torch.optim.AdamW(rnn.parameters(), weight_decay=0.04)\n",
        "criterion = nn.NLLLoss()\n",
        "\n",
        "for epoch in range(nepochs):\n",
        "    np.random.shuffle(training_pats)\n",
        "    losses = []\n",
        "\n",
        "    for seq_tensor in training_pats:\n",
        "        loss = train(seq_tensor, rnn)\n",
        "        losses.append(loss)\n",
        "\n",
        "    mean_loss = np.mean(losses)\n",
        "    print(f\"Epoch {epoch+1}/{nepochs}, Mean Loss: {mean_loss:.4f}\")\n",
        "\n",
        "\n"
      ],
      "metadata": {
        "id": "lF2qez6BBy5j",
        "outputId": "bd47c1e8-da23-4d7f-dfd0-6f6e32dcbb24",
        "colab": {
          "base_uri": "https://localhost:8080/"
        }
      },
      "id": "lF2qez6BBy5j",
      "execution_count": 14,
      "outputs": [
        {
          "output_type": "stream",
          "name": "stdout",
          "text": [
            "Epoch 1/10, Mean Loss: 1.7827\n",
            "Epoch 2/10, Mean Loss: 1.5913\n",
            "Epoch 3/10, Mean Loss: 1.5830\n",
            "Epoch 4/10, Mean Loss: 1.5801\n",
            "Epoch 5/10, Mean Loss: 1.5789\n",
            "Epoch 6/10, Mean Loss: 1.5779\n",
            "Epoch 7/10, Mean Loss: 1.5767\n",
            "Epoch 8/10, Mean Loss: 1.5760\n",
            "Epoch 9/10, Mean Loss: 1.5758\n",
            "Epoch 10/10, Mean Loss: 1.5750\n"
          ]
        }
      ]
    },
    {
      "cell_type": "markdown",
      "id": "29604f26",
      "metadata": {
        "id": "29604f26"
      },
      "source": [
        "### Analyze the SRN internal representations\n",
        "Once training is done, we want to examine the internal representations to see what the network has learned about the lexical items. Elman ran a hierarchical clustering analysis using the mean hidden representation of each word when presented across the corpus.\n",
        "<img src=\"https://github.com/brendenlake/CCM-site/blob/main/homeworks/homework-NeuralNet/.ipynb_checkpoints/images/elman_fig7.png?raw=1\" width=500px>\n",
        "\n",
        "Unlike Elman we have an **explicit input embedding** for each word, and thus we can more simply look at these embedding vectors. Run the code to compare with Elman's results. *You shouldn't expect a close match.* There are differences in network architecture, training, and the dataset. Still, it's interesting to see what your SRN has learned."
      ]
    },
    {
      "cell_type": "code",
      "execution_count": 15,
      "id": "8f7455dc",
      "metadata": {
        "id": "8f7455dc",
        "outputId": "e71beb50-f5f5-4c29-ba27-8168dc922dfe",
        "colab": {
          "base_uri": "https://localhost:8080/",
          "height": 106
        }
      },
      "outputs": [
        {
          "output_type": "error",
          "ename": "IndentationError",
          "evalue": "unexpected indent (<ipython-input-15-53e0b6a5e686>, line 8)",
          "traceback": [
            "\u001b[0;36m  File \u001b[0;32m\"<ipython-input-15-53e0b6a5e686>\"\u001b[0;36m, line \u001b[0;32m8\u001b[0m\n\u001b[0;31m    nitem = len(names)\u001b[0m\n\u001b[0m    ^\u001b[0m\n\u001b[0;31mIndentationError\u001b[0m\u001b[0;31m:\u001b[0m unexpected indent\n"
          ]
        }
      ],
      "source": [
        "# TEMPLATE\n",
        "\n",
        "def plot_dendo(X, names, exclude=['<SOS>','<EOS>']):\n",
        "    #  Show hierarchical clustering of vectors\n",
        "    #\n",
        "    # Input\n",
        "    #  X : numpy tensor [nitem x dim] such that each row is a vector to be clustered\n",
        "    #  names : [length nitem] list of item names\n",
        "    #  exclude: list of names we want to exclude\n",
        "    nitem = len(names)\n",
        "    names  = np.array(names)\n",
        "    include = np.array([myname not in exclude for myname in names], dtype=bool)\n",
        "    linked = linkage(X[include],'single', optimal_ordering=True)\n",
        "    plt.figure(1, figsize=(20,6))\n",
        "    dendrogram(linked, labels=names[include], color_threshold=0, leaf_font_size=18)\n",
        "    plt.show()\n",
        "\n",
        "plot_dendo(rnn.get_embeddings(), unique_tokens)"
      ]
    },
    {
      "cell_type": "code",
      "source": [
        "def plot_dendo(X, names, exclude=['<SOS>', '<EOS>']):\n",
        "    # Show hierarchical clustering of vectors\n",
        "    nitem = len(names)\n",
        "    names = np.array(names)\n",
        "    include = np.array([myname not in exclude for myname in names], dtype=bool)\n",
        "\n",
        "    linked = linkage(X[include], 'single', optimal_ordering=True)\n",
        "\n",
        "    plt.figure(1, figsize=(20, 6))\n",
        "    dendrogram(linked, labels=names[include], color_threshold=0, leaf_font_size=18)\n",
        "    plt.show()\n",
        "\n",
        "plot_dendo(rnn.get_embeddings(), unique_tokens)\n"
      ],
      "metadata": {
        "id": "2iIlTVBwEsRO",
        "outputId": "be4c89a7-efc6-4853-bdb2-506f2f1ae5c5",
        "colab": {
          "base_uri": "https://localhost:8080/",
          "height": 608
        }
      },
      "id": "2iIlTVBwEsRO",
      "execution_count": 17,
      "outputs": [
        {
          "output_type": "display_data",
          "data": {
            "text/plain": [
              "<Figure size 2000x600 with 1 Axes>"
            ],
            "image/png": "[encoded data removed]"
          },
          "metadata": {}
        }
      ]
    },
    {
      "cell_type": "markdown",
      "id": "d88d44b0",
      "metadata": {
        "id": "d88d44b0"
      },
      "source": [
        "<div class=\"alert alert-success\" role=\"alert\">\n",
        "<h3> Problem 3 (10 points) </h3>\n",
        "<br>\n",
        "Write a function `generate` to probabilistically sample sentences from your network. Generate 10 sample sentences in this manner. For each, convert the sequence of token indices back to string form. When printing the sentence, you can either include the SOS and EOS or ignore them. It's fine to assume a maximum length.\n",
        "</div>\n",
        "\n",
        "**Hint:** You will find `torch.distributions.categorical.Categorical` useful."
      ]
    },
    {
      "cell_type": "code",
      "execution_count": null,
      "id": "7d38772e",
      "metadata": {
        "id": "7d38772e"
      },
      "outputs": [],
      "source": [
        "#TEMPLATE\n",
        "\n",
        "def generate(rnn, maxlen=4):\n",
        "    # TODO : YOUR CODE GOES HERE\n",
        "    raise Exception('Replace with your code.')\n",
        "\n",
        "for i in range(10):\n",
        "    generate(rnn)"
      ]
    },
    {
      "cell_type": "code",
      "source": [
        "def generate(rnn, maxlen=4):\n",
        "    rnn.eval()  # set model to eval mode just in case\n",
        "    hidden = rnn.initHidden()\n",
        "\n",
        "    input_token = torch.tensor(token_to_index['<SOS>'])  # start with <SOS>\n",
        "    output_tokens = ['<SOS>']\n",
        "\n",
        "    for _ in range(maxlen):\n",
        "        output, hidden = rnn(input_token, hidden)\n",
        "\n",
        "        # Sample from the predicted distribution\n",
        "        dist = torch.distributions.Categorical(logits=output)\n",
        "        next_index = dist.sample().item()\n",
        "        next_token = index_to_token[next_index]\n",
        "\n",
        "        output_tokens.append(next_token)\n",
        "\n",
        "        if next_token == '<EOS>':\n",
        "            break\n",
        "\n",
        "        input_token = torch.tensor(next_index)\n",
        "\n",
        "    # Print sentence (you can remove <SOS>/<EOS> if you want)\n",
        "    #print(' '.join(output_tokens))\n",
        "    print(' '.join([w for w in output_tokens if w not in ['<SOS>', '<EOS>']])) # for a clearer output\n",
        "\n",
        "\n",
        "\n",
        "for i in range(10):\n",
        "    generate(rnn)\n"
      ],
      "metadata": {
        "id": "2YPwqS5EF5vG",
        "outputId": "9dbd0fdb-0425-4a00-fadc-1d52ce8ade21",
        "colab": {
          "base_uri": "https://localhost:8080/"
        }
      },
      "id": "2YPwqS5EF5vG",
      "execution_count": 25,
      "outputs": [
        {
          "output_type": "stream",
          "name": "stdout",
          "text": [
            "woman exist\n",
            "dragon break glass\n",
            "boy break glass\n",
            "dragon eat bread\n",
            "man eat cookie\n",
            "girl like mouse\n",
            "woman break\n",
            "dragon break plate\n",
            "lion break glass\n",
            "boy see mouse\n"
          ]
        }
      ]
    }
  ],
  "metadata": {
    "kernelspec": {
      "display_name": "Python 3 (ipykernel)",
      "language": "python",
      "name": "python3"
    },
    "language_info": {
      "codemirror_mode": {
        "name": "ipython",
        "version": 3
      },
      "file_extension": ".py",
      "mimetype": "text/x-python",
      "name": "python",
      "nbconvert_exporter": "python",
      "pygments_lexer": "ipython3",
      "version": "3.7.9"
    },
    "colab": {
      "provenance": []
    }
  },
  "nbformat": 4,
  "nbformat_minor": 5
}